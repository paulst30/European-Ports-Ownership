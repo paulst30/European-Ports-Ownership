{
  "nbformat": 4,
  "nbformat_minor": 0,
  "metadata": {
    "colab": {
      "provenance": [],
      "authorship_tag": "ABX9TyMZnIDxT8RahDRN9QGMEkSm",
      "include_colab_link": true
    },
    "kernelspec": {
      "name": "python3",
      "display_name": "Python 3"
    },
    "language_info": {
      "name": "python"
    }
  },
  "cells": [
    {
      "cell_type": "markdown",
      "metadata": {
        "id": "view-in-github",
        "colab_type": "text"
      },
      "source": [
        "<a href=\"https://colab.research.google.com/github/paulst30/European-Ports-Ownership/blob/main/data_cleaning.ipynb\" target=\"_parent\"><img src=\"https://colab.research.google.com/assets/colab-badge.svg\" alt=\"Open In Colab\"/></a>"
      ]
    },
    {
      "cell_type": "code",
      "execution_count": 3,
      "metadata": {
        "id": "YYKeGg7KFBo3"
      },
      "outputs": [],
      "source": [
        "import pandas as pd\n",
        "import numpy as nd\n"
      ]
    },
    {
      "cell_type": "code",
      "source": [
        "# load data\n",
        "\n",
        "data = pd.read_csv('busting_data.csv')"
      ],
      "metadata": {
        "id": "oTymnbi_FLeJ"
      },
      "execution_count": 4,
      "outputs": []
    },
    {
      "cell_type": "markdown",
      "source": [
        "# Duplicates\n",
        "The orbis data is fully identifiied by the variables bvd_id_number, closing_date, consolidation_code. To reduce the observations so that each firm x year is a unique observation, I filter by consolidation_code following a priority of C1, C2, U1, U2. Also I only consider end-of-year reports."
      ],
      "metadata": {
        "id": "4TgNWdrLFeAa"
      }
    },
    {
      "cell_type": "code",
      "source": [
        "# filter data by consolidation code\n",
        "\n",
        "def consolidation_filter(x):\n",
        "   if len(x) == 1:\n",
        "    return x\n",
        "\n",
        "   priority_codes = ['C1', 'C2', 'U1', 'U2']\n",
        "\n",
        "   for concode in priority_codes:\n",
        "    if concode in x['consolidation_code'].values:\n",
        "      return x[x['consolidation_code'] == concode]\n",
        "\n",
        "filtered_data = data.groupby(['bvd_id_number','closing_year']).apply(consolidation_filter).reset_index(drop=True)"
      ],
      "metadata": {
        "id": "fvOcFIF7FMEV"
      },
      "execution_count": 5,
      "outputs": []
    },
    {
      "cell_type": "code",
      "source": [
        "# filter by closing_date\n",
        "filtered_data['closing_date'] = pd.to_datetime(filtered_data['closing_date'])\n",
        "\n",
        "def date_filter(x):\n",
        "  if len(x)==1:\n",
        "   return x\n",
        "  else:\n",
        "    max_date = x['closing_date'].max()\n",
        "    return x[x['closing_date']==max_date]\n",
        "\n",
        "filtered_data = filtered_data.groupby(['bvd_id_number', 'closing_year']).apply(date_filter).reset_index(drop=True)"
      ],
      "metadata": {
        "id": "TgD5fM3kFVY9"
      },
      "execution_count": 6,
      "outputs": []
    },
    {
      "cell_type": "code",
      "source": [
        "# check if filters identify the dataset fully\n",
        "filtered_data[['bvd_id_number', 'closing_year']].duplicated().sum()"
      ],
      "metadata": {
        "colab": {
          "base_uri": "https://localhost:8080/"
        },
        "id": "QOMu3ctLFci_",
        "outputId": "e79f6992-ea66-4fb6-d15f-c61699962dd5"
      },
      "execution_count": 7,
      "outputs": [
        {
          "output_type": "execute_result",
          "data": {
            "text/plain": [
              "0"
            ]
          },
          "metadata": {},
          "execution_count": 7
        }
      ]
    },
    {
      "cell_type": "markdown",
      "source": [
        "#Save data"
      ],
      "metadata": {
        "id": "o779Vw8LG6uI"
      }
    },
    {
      "cell_type": "code",
      "source": [
        "# save dataset\n",
        "filtered_data.to_csv('clean_busting_data.csv', index=False)"
      ],
      "metadata": {
        "id": "WmjpGwGWHAu1"
      },
      "execution_count": 9,
      "outputs": []
    }
  ]
}